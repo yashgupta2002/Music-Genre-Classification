{
 "cells": [
  {
   "cell_type": "code",
   "execution_count": 1,
   "metadata": {},
   "outputs": [],
   "source": [
    "import librosa\n",
    "import pandas as pd\n",
    "import numpy as np\n",
    "import matplotlib.pyplot as plt\n",
    "import os\n",
    "import csv\n",
    "%matplotlib inline\n",
    "\n",
    "#Preprocesing\n",
    "from sklearn.model_selection import train_test_split\n",
    "from sklearn.preprocessing import StandardScaler, LabelEncoder"
   ]
  },
  {
   "cell_type": "code",
   "execution_count": 2,
   "metadata": {},
   "outputs": [
    {
     "data": {
      "text/html": [
       "<div>\n",
       "<style scoped>\n",
       "    .dataframe tbody tr th:only-of-type {\n",
       "        vertical-align: middle;\n",
       "    }\n",
       "\n",
       "    .dataframe tbody tr th {\n",
       "        vertical-align: top;\n",
       "    }\n",
       "\n",
       "    .dataframe thead th {\n",
       "        text-align: right;\n",
       "    }\n",
       "</style>\n",
       "<table border=\"1\" class=\"dataframe\">\n",
       "  <thead>\n",
       "    <tr style=\"text-align: right;\">\n",
       "      <th></th>\n",
       "      <th>filename</th>\n",
       "      <th>chroma_stft</th>\n",
       "      <th>chroma_stft_var</th>\n",
       "      <th>rmse</th>\n",
       "      <th>rmse_var</th>\n",
       "      <th>spectral_centroid</th>\n",
       "      <th>spectral_centroid_var</th>\n",
       "      <th>spectral_bandwidth</th>\n",
       "      <th>spectral_bandwidth_var</th>\n",
       "      <th>rolloff</th>\n",
       "      <th>...</th>\n",
       "      <th>mfcc12</th>\n",
       "      <th>mfcc13</th>\n",
       "      <th>mfcc14</th>\n",
       "      <th>mfcc15</th>\n",
       "      <th>mfcc16</th>\n",
       "      <th>mfcc17</th>\n",
       "      <th>mfcc18</th>\n",
       "      <th>mfcc19</th>\n",
       "      <th>mfcc20</th>\n",
       "      <th>label</th>\n",
       "    </tr>\n",
       "  </thead>\n",
       "  <tbody>\n",
       "    <tr>\n",
       "      <th>0</th>\n",
       "      <td>blues.00000.wav</td>\n",
       "      <td>0.349943</td>\n",
       "      <td>0.088760</td>\n",
       "      <td>0.130225</td>\n",
       "      <td>0.002829</td>\n",
       "      <td>1784.420446</td>\n",
       "      <td>129789.689238</td>\n",
       "      <td>2002.650192</td>\n",
       "      <td>85897.037189</td>\n",
       "      <td>3806.485316</td>\n",
       "      <td>...</td>\n",
       "      <td>8.810669</td>\n",
       "      <td>-3.667368</td>\n",
       "      <td>5.751691</td>\n",
       "      <td>-5.162763</td>\n",
       "      <td>0.750948</td>\n",
       "      <td>-1.691938</td>\n",
       "      <td>-0.409953</td>\n",
       "      <td>-2.300209</td>\n",
       "      <td>1.219929</td>\n",
       "      <td>blues</td>\n",
       "    </tr>\n",
       "    <tr>\n",
       "      <th>1</th>\n",
       "      <td>blues.00001.wav</td>\n",
       "      <td>0.340983</td>\n",
       "      <td>0.094981</td>\n",
       "      <td>0.095918</td>\n",
       "      <td>0.002373</td>\n",
       "      <td>1529.835316</td>\n",
       "      <td>375984.023922</td>\n",
       "      <td>2038.617579</td>\n",
       "      <td>213794.462833</td>\n",
       "      <td>3548.820207</td>\n",
       "      <td>...</td>\n",
       "      <td>5.376803</td>\n",
       "      <td>-2.239120</td>\n",
       "      <td>4.216963</td>\n",
       "      <td>-6.012273</td>\n",
       "      <td>0.936109</td>\n",
       "      <td>-0.716537</td>\n",
       "      <td>0.293876</td>\n",
       "      <td>-0.287431</td>\n",
       "      <td>0.531573</td>\n",
       "      <td>blues</td>\n",
       "    </tr>\n",
       "    <tr>\n",
       "      <th>2</th>\n",
       "      <td>blues.00002.wav</td>\n",
       "      <td>0.363603</td>\n",
       "      <td>0.085287</td>\n",
       "      <td>0.175573</td>\n",
       "      <td>0.002748</td>\n",
       "      <td>1552.481958</td>\n",
       "      <td>156526.317715</td>\n",
       "      <td>1747.165985</td>\n",
       "      <td>76046.707240</td>\n",
       "      <td>3040.514948</td>\n",
       "      <td>...</td>\n",
       "      <td>5.789265</td>\n",
       "      <td>-8.905224</td>\n",
       "      <td>-1.083720</td>\n",
       "      <td>-9.218359</td>\n",
       "      <td>2.455806</td>\n",
       "      <td>-7.726901</td>\n",
       "      <td>-1.815723</td>\n",
       "      <td>-3.433434</td>\n",
       "      <td>-2.226821</td>\n",
       "      <td>blues</td>\n",
       "    </tr>\n",
       "    <tr>\n",
       "      <th>3</th>\n",
       "      <td>blues.00003.wav</td>\n",
       "      <td>0.404779</td>\n",
       "      <td>0.094009</td>\n",
       "      <td>0.141191</td>\n",
       "      <td>0.006339</td>\n",
       "      <td>1070.119953</td>\n",
       "      <td>184498.418348</td>\n",
       "      <td>1596.333948</td>\n",
       "      <td>166561.564811</td>\n",
       "      <td>2185.028454</td>\n",
       "      <td>...</td>\n",
       "      <td>6.087677</td>\n",
       "      <td>-2.476421</td>\n",
       "      <td>-1.073890</td>\n",
       "      <td>-2.874778</td>\n",
       "      <td>0.780977</td>\n",
       "      <td>-3.316932</td>\n",
       "      <td>0.637982</td>\n",
       "      <td>-0.619690</td>\n",
       "      <td>-3.408233</td>\n",
       "      <td>blues</td>\n",
       "    </tr>\n",
       "    <tr>\n",
       "      <th>4</th>\n",
       "      <td>blues.00004.wav</td>\n",
       "      <td>0.308590</td>\n",
       "      <td>0.087850</td>\n",
       "      <td>0.091563</td>\n",
       "      <td>0.002304</td>\n",
       "      <td>1835.494603</td>\n",
       "      <td>343350.842007</td>\n",
       "      <td>1748.362448</td>\n",
       "      <td>88466.013315</td>\n",
       "      <td>3580.945013</td>\n",
       "      <td>...</td>\n",
       "      <td>-2.806384</td>\n",
       "      <td>-6.934123</td>\n",
       "      <td>-7.558618</td>\n",
       "      <td>-9.173553</td>\n",
       "      <td>-4.512165</td>\n",
       "      <td>-5.453538</td>\n",
       "      <td>-0.924161</td>\n",
       "      <td>-4.409333</td>\n",
       "      <td>-11.703781</td>\n",
       "      <td>blues</td>\n",
       "    </tr>\n",
       "  </tbody>\n",
       "</table>\n",
       "<p>5 rows × 34 columns</p>\n",
       "</div>"
      ],
      "text/plain": [
       "          filename  chroma_stft  chroma_stft_var      rmse  rmse_var  \\\n",
       "0  blues.00000.wav     0.349943         0.088760  0.130225  0.002829   \n",
       "1  blues.00001.wav     0.340983         0.094981  0.095918  0.002373   \n",
       "2  blues.00002.wav     0.363603         0.085287  0.175573  0.002748   \n",
       "3  blues.00003.wav     0.404779         0.094009  0.141191  0.006339   \n",
       "4  blues.00004.wav     0.308590         0.087850  0.091563  0.002304   \n",
       "\n",
       "   spectral_centroid  spectral_centroid_var  spectral_bandwidth  \\\n",
       "0        1784.420446          129789.689238         2002.650192   \n",
       "1        1529.835316          375984.023922         2038.617579   \n",
       "2        1552.481958          156526.317715         1747.165985   \n",
       "3        1070.119953          184498.418348         1596.333948   \n",
       "4        1835.494603          343350.842007         1748.362448   \n",
       "\n",
       "   spectral_bandwidth_var      rolloff  ...    mfcc12    mfcc13    mfcc14  \\\n",
       "0            85897.037189  3806.485316  ...  8.810669 -3.667368  5.751691   \n",
       "1           213794.462833  3548.820207  ...  5.376803 -2.239120  4.216963   \n",
       "2            76046.707240  3040.514948  ...  5.789265 -8.905224 -1.083720   \n",
       "3           166561.564811  2185.028454  ...  6.087677 -2.476421 -1.073890   \n",
       "4            88466.013315  3580.945013  ... -2.806384 -6.934123 -7.558618   \n",
       "\n",
       "     mfcc15    mfcc16    mfcc17    mfcc18    mfcc19     mfcc20  label  \n",
       "0 -5.162763  0.750948 -1.691938 -0.409953 -2.300209   1.219929  blues  \n",
       "1 -6.012273  0.936109 -0.716537  0.293876 -0.287431   0.531573  blues  \n",
       "2 -9.218359  2.455806 -7.726901 -1.815723 -3.433434  -2.226821  blues  \n",
       "3 -2.874778  0.780977 -3.316932  0.637982 -0.619690  -3.408233  blues  \n",
       "4 -9.173553 -4.512165 -5.453538 -0.924161 -4.409333 -11.703781  blues  \n",
       "\n",
       "[5 rows x 34 columns]"
      ]
     },
     "execution_count": 2,
     "metadata": {},
     "output_type": "execute_result"
    }
   ],
   "source": [
    "data = pd.read_csv('data.csv')\n",
    "data.head()"
   ]
  },
  {
   "cell_type": "code",
   "execution_count": 3,
   "metadata": {},
   "outputs": [
    {
     "data": {
      "text/html": [
       "<div>\n",
       "<style scoped>\n",
       "    .dataframe tbody tr th:only-of-type {\n",
       "        vertical-align: middle;\n",
       "    }\n",
       "\n",
       "    .dataframe tbody tr th {\n",
       "        vertical-align: top;\n",
       "    }\n",
       "\n",
       "    .dataframe thead th {\n",
       "        text-align: right;\n",
       "    }\n",
       "</style>\n",
       "<table border=\"1\" class=\"dataframe\">\n",
       "  <thead>\n",
       "    <tr style=\"text-align: right;\">\n",
       "      <th></th>\n",
       "      <th>chroma_stft</th>\n",
       "      <th>chroma_stft_var</th>\n",
       "      <th>rmse</th>\n",
       "      <th>rmse_var</th>\n",
       "      <th>spectral_centroid</th>\n",
       "      <th>spectral_centroid_var</th>\n",
       "      <th>spectral_bandwidth</th>\n",
       "      <th>spectral_bandwidth_var</th>\n",
       "      <th>rolloff</th>\n",
       "      <th>rolloff_var</th>\n",
       "      <th>...</th>\n",
       "      <th>mfcc12</th>\n",
       "      <th>mfcc13</th>\n",
       "      <th>mfcc14</th>\n",
       "      <th>mfcc15</th>\n",
       "      <th>mfcc16</th>\n",
       "      <th>mfcc17</th>\n",
       "      <th>mfcc18</th>\n",
       "      <th>mfcc19</th>\n",
       "      <th>mfcc20</th>\n",
       "      <th>label</th>\n",
       "    </tr>\n",
       "  </thead>\n",
       "  <tbody>\n",
       "    <tr>\n",
       "      <th>0</th>\n",
       "      <td>0.349943</td>\n",
       "      <td>0.088760</td>\n",
       "      <td>0.130225</td>\n",
       "      <td>0.002829</td>\n",
       "      <td>1784.420446</td>\n",
       "      <td>129789.689238</td>\n",
       "      <td>2002.650192</td>\n",
       "      <td>85897.037189</td>\n",
       "      <td>3806.485316</td>\n",
       "      <td>9.016619e+05</td>\n",
       "      <td>...</td>\n",
       "      <td>8.810669</td>\n",
       "      <td>-3.667368</td>\n",
       "      <td>5.751691</td>\n",
       "      <td>-5.162763</td>\n",
       "      <td>0.750948</td>\n",
       "      <td>-1.691938</td>\n",
       "      <td>-0.409953</td>\n",
       "      <td>-2.300209</td>\n",
       "      <td>1.219929</td>\n",
       "      <td>blues</td>\n",
       "    </tr>\n",
       "    <tr>\n",
       "      <th>1</th>\n",
       "      <td>0.340983</td>\n",
       "      <td>0.094981</td>\n",
       "      <td>0.095918</td>\n",
       "      <td>0.002373</td>\n",
       "      <td>1529.835316</td>\n",
       "      <td>375984.023922</td>\n",
       "      <td>2038.617579</td>\n",
       "      <td>213794.462833</td>\n",
       "      <td>3548.820207</td>\n",
       "      <td>2.976486e+06</td>\n",
       "      <td>...</td>\n",
       "      <td>5.376803</td>\n",
       "      <td>-2.239120</td>\n",
       "      <td>4.216963</td>\n",
       "      <td>-6.012273</td>\n",
       "      <td>0.936109</td>\n",
       "      <td>-0.716537</td>\n",
       "      <td>0.293876</td>\n",
       "      <td>-0.287431</td>\n",
       "      <td>0.531573</td>\n",
       "      <td>blues</td>\n",
       "    </tr>\n",
       "    <tr>\n",
       "      <th>2</th>\n",
       "      <td>0.363603</td>\n",
       "      <td>0.085287</td>\n",
       "      <td>0.175573</td>\n",
       "      <td>0.002748</td>\n",
       "      <td>1552.481958</td>\n",
       "      <td>156526.317715</td>\n",
       "      <td>1747.165985</td>\n",
       "      <td>76046.707240</td>\n",
       "      <td>3040.514948</td>\n",
       "      <td>7.831159e+05</td>\n",
       "      <td>...</td>\n",
       "      <td>5.789265</td>\n",
       "      <td>-8.905224</td>\n",
       "      <td>-1.083720</td>\n",
       "      <td>-9.218359</td>\n",
       "      <td>2.455806</td>\n",
       "      <td>-7.726901</td>\n",
       "      <td>-1.815723</td>\n",
       "      <td>-3.433434</td>\n",
       "      <td>-2.226821</td>\n",
       "      <td>blues</td>\n",
       "    </tr>\n",
       "    <tr>\n",
       "      <th>3</th>\n",
       "      <td>0.404779</td>\n",
       "      <td>0.094009</td>\n",
       "      <td>0.141191</td>\n",
       "      <td>0.006339</td>\n",
       "      <td>1070.119953</td>\n",
       "      <td>184498.418348</td>\n",
       "      <td>1596.333948</td>\n",
       "      <td>166561.564811</td>\n",
       "      <td>2185.028454</td>\n",
       "      <td>1.494250e+06</td>\n",
       "      <td>...</td>\n",
       "      <td>6.087677</td>\n",
       "      <td>-2.476421</td>\n",
       "      <td>-1.073890</td>\n",
       "      <td>-2.874778</td>\n",
       "      <td>0.780977</td>\n",
       "      <td>-3.316932</td>\n",
       "      <td>0.637982</td>\n",
       "      <td>-0.619690</td>\n",
       "      <td>-3.408233</td>\n",
       "      <td>blues</td>\n",
       "    </tr>\n",
       "    <tr>\n",
       "      <th>4</th>\n",
       "      <td>0.308590</td>\n",
       "      <td>0.087850</td>\n",
       "      <td>0.091563</td>\n",
       "      <td>0.002304</td>\n",
       "      <td>1835.494603</td>\n",
       "      <td>343350.842007</td>\n",
       "      <td>1748.362448</td>\n",
       "      <td>88466.013315</td>\n",
       "      <td>3580.945013</td>\n",
       "      <td>1.572304e+06</td>\n",
       "      <td>...</td>\n",
       "      <td>-2.806384</td>\n",
       "      <td>-6.934123</td>\n",
       "      <td>-7.558618</td>\n",
       "      <td>-9.173553</td>\n",
       "      <td>-4.512165</td>\n",
       "      <td>-5.453538</td>\n",
       "      <td>-0.924161</td>\n",
       "      <td>-4.409333</td>\n",
       "      <td>-11.703781</td>\n",
       "      <td>blues</td>\n",
       "    </tr>\n",
       "  </tbody>\n",
       "</table>\n",
       "<p>5 rows × 33 columns</p>\n",
       "</div>"
      ],
      "text/plain": [
       "   chroma_stft  chroma_stft_var      rmse  rmse_var  spectral_centroid  \\\n",
       "0     0.349943         0.088760  0.130225  0.002829        1784.420446   \n",
       "1     0.340983         0.094981  0.095918  0.002373        1529.835316   \n",
       "2     0.363603         0.085287  0.175573  0.002748        1552.481958   \n",
       "3     0.404779         0.094009  0.141191  0.006339        1070.119953   \n",
       "4     0.308590         0.087850  0.091563  0.002304        1835.494603   \n",
       "\n",
       "   spectral_centroid_var  spectral_bandwidth  spectral_bandwidth_var  \\\n",
       "0          129789.689238         2002.650192            85897.037189   \n",
       "1          375984.023922         2038.617579           213794.462833   \n",
       "2          156526.317715         1747.165985            76046.707240   \n",
       "3          184498.418348         1596.333948           166561.564811   \n",
       "4          343350.842007         1748.362448            88466.013315   \n",
       "\n",
       "       rolloff   rolloff_var  ...    mfcc12    mfcc13    mfcc14    mfcc15  \\\n",
       "0  3806.485316  9.016619e+05  ...  8.810669 -3.667368  5.751691 -5.162763   \n",
       "1  3548.820207  2.976486e+06  ...  5.376803 -2.239120  4.216963 -6.012273   \n",
       "2  3040.514948  7.831159e+05  ...  5.789265 -8.905224 -1.083720 -9.218359   \n",
       "3  2185.028454  1.494250e+06  ...  6.087677 -2.476421 -1.073890 -2.874778   \n",
       "4  3580.945013  1.572304e+06  ... -2.806384 -6.934123 -7.558618 -9.173553   \n",
       "\n",
       "     mfcc16    mfcc17    mfcc18    mfcc19     mfcc20  label  \n",
       "0  0.750948 -1.691938 -0.409953 -2.300209   1.219929  blues  \n",
       "1  0.936109 -0.716537  0.293876 -0.287431   0.531573  blues  \n",
       "2  2.455806 -7.726901 -1.815723 -3.433434  -2.226821  blues  \n",
       "3  0.780977 -3.316932  0.637982 -0.619690  -3.408233  blues  \n",
       "4 -4.512165 -5.453538 -0.924161 -4.409333 -11.703781  blues  \n",
       "\n",
       "[5 rows x 33 columns]"
      ]
     },
     "execution_count": 3,
     "metadata": {},
     "output_type": "execute_result"
    }
   ],
   "source": [
    "data = data.drop(['filename'],axis=1)\n",
    "data.head()"
   ]
  },
  {
   "cell_type": "code",
   "execution_count": 4,
   "metadata": {},
   "outputs": [
    {
     "name": "stdout",
     "output_type": "stream",
     "text": [
      "<class 'pandas.core.frame.DataFrame'>\n",
      "RangeIndex: 1000 entries, 0 to 999\n",
      "Data columns (total 33 columns):\n",
      " #   Column                  Non-Null Count  Dtype  \n",
      "---  ------                  --------------  -----  \n",
      " 0   chroma_stft             1000 non-null   float64\n",
      " 1   chroma_stft_var         1000 non-null   float64\n",
      " 2   rmse                    1000 non-null   float64\n",
      " 3   rmse_var                1000 non-null   float64\n",
      " 4   spectral_centroid       1000 non-null   float64\n",
      " 5   spectral_centroid_var   1000 non-null   float64\n",
      " 6   spectral_bandwidth      1000 non-null   float64\n",
      " 7   spectral_bandwidth_var  1000 non-null   float64\n",
      " 8   rolloff                 1000 non-null   float64\n",
      " 9   rolloff_var             1000 non-null   float64\n",
      " 10  zero_crossing_rate      1000 non-null   float64\n",
      " 11  zero_crossing_rate_var  1000 non-null   float64\n",
      " 12  mfcc1                   1000 non-null   float64\n",
      " 13  mfcc2                   1000 non-null   float64\n",
      " 14  mfcc3                   1000 non-null   float64\n",
      " 15  mfcc4                   1000 non-null   float64\n",
      " 16  mfcc5                   1000 non-null   float64\n",
      " 17  mfcc6                   1000 non-null   float64\n",
      " 18  mfcc7                   1000 non-null   float64\n",
      " 19  mfcc8                   1000 non-null   float64\n",
      " 20  mfcc9                   1000 non-null   float64\n",
      " 21  mfcc10                  1000 non-null   float64\n",
      " 22  mfcc11                  1000 non-null   float64\n",
      " 23  mfcc12                  1000 non-null   float64\n",
      " 24  mfcc13                  1000 non-null   float64\n",
      " 25  mfcc14                  1000 non-null   float64\n",
      " 26  mfcc15                  1000 non-null   float64\n",
      " 27  mfcc16                  1000 non-null   float64\n",
      " 28  mfcc17                  1000 non-null   float64\n",
      " 29  mfcc18                  1000 non-null   float64\n",
      " 30  mfcc19                  1000 non-null   float64\n",
      " 31  mfcc20                  1000 non-null   float64\n",
      " 32  label                   1000 non-null   object \n",
      "dtypes: float64(32), object(1)\n",
      "memory usage: 257.9+ KB\n"
     ]
    }
   ],
   "source": [
    "data.info()"
   ]
  },
  {
   "cell_type": "code",
   "execution_count": 5,
   "metadata": {},
   "outputs": [
    {
     "name": "stdout",
     "output_type": "stream",
     "text": [
      "[0 0 0 0 0 0 0 0 0 0 0 0 0 0 0 0 0 0 0 0 0 0 0 0 0 0 0 0 0 0 0 0 0 0 0 0 0\n",
      " 0 0 0 0 0 0 0 0 0 0 0 0 0 0 0 0 0 0 0 0 0 0 0 0 0 0 0 0 0 0 0 0 0 0 0 0 0\n",
      " 0 0 0 0 0 0 0 0 0 0 0 0 0 0 0 0 0 0 0 0 0 0 0 0 0 0 1 1 1 1 1 1 1 1 1 1 1\n",
      " 1 1 1 1 1 1 1 1 1 1 1 1 1 1 1 1 1 1 1 1 1 1 1 1 1 1 1 1 1 1 1 1 1 1 1 1 1\n",
      " 1 1 1 1 1 1 1 1 1 1 1 1 1 1 1 1 1 1 1 1 1 1 1 1 1 1 1 1 1 1 1 1 1 1 1 1 1\n",
      " 1 1 1 1 1 1 1 1 1 1 1 1 1 1 1 2 2 2 2 2 2 2 2 2 2 2 2 2 2 2 2 2 2 2 2 2 2\n",
      " 2 2 2 2 2 2 2 2 2 2 2 2 2 2 2 2 2 2 2 2 2 2 2 2 2 2 2 2 2 2 2 2 2 2 2 2 2\n",
      " 2 2 2 2 2 2 2 2 2 2 2 2 2 2 2 2 2 2 2 2 2 2 2 2 2 2 2 2 2 2 2 2 2 2 2 2 2\n",
      " 2 2 2 2 3 3 3 3 3 3 3 3 3 3 3 3 3 3 3 3 3 3 3 3 3 3 3 3 3 3 3 3 3 3 3 3 3\n",
      " 3 3 3 3 3 3 3 3 3 3 3 3 3 3 3 3 3 3 3 3 3 3 3 3 3 3 3 3 3 3 3 3 3 3 3 3 3\n",
      " 3 3 3 3 3 3 3 3 3 3 3 3 3 3 3 3 3 3 3 3 3 3 3 3 3 3 3 3 3 3 4 4 4 4 4 4 4\n",
      " 4 4 4 4 4 4 4 4 4 4 4 4 4 4 4 4 4 4 4 4 4 4 4 4 4 4 4 4 4 4 4 4 4 4 4 4 4\n",
      " 4 4 4 4 4 4 4 4 4 4 4 4 4 4 4 4 4 4 4 4 4 4 4 4 4 4 4 4 4 4 4 4 4 4 4 4 4\n",
      " 4 4 4 4 4 4 4 4 4 4 4 4 4 4 4 4 4 4 4 5 5 5 5 5 5 5 5 5 5 5 5 5 5 5 5 5 5\n",
      " 5 5 5 5 5 5 5 5 5 5 5 5 5 5 5 5 5 5 5 5 5 5 5 5 5 5 5 5 5 5 5 5 5 5 5 5 5\n",
      " 5 5 5 5 5 5 5 5 5 5 5 5 5 5 5 5 5 5 5 5 5 5 5 5 5 5 5 5 5 5 5 5 5 5 5 5 5\n",
      " 5 5 5 5 5 5 5 5 6 6 6 6 6 6 6 6 6 6 6 6 6 6 6 6 6 6 6 6 6 6 6 6 6 6 6 6 6\n",
      " 6 6 6 6 6 6 6 6 6 6 6 6 6 6 6 6 6 6 6 6 6 6 6 6 6 6 6 6 6 6 6 6 6 6 6 6 6\n",
      " 6 6 6 6 6 6 6 6 6 6 6 6 6 6 6 6 6 6 6 6 6 6 6 6 6 6 6 6 6 6 6 6 6 6 7 7 7\n",
      " 7 7 7 7 7 7 7 7 7 7 7 7 7 7 7 7 7 7 7 7 7 7 7 7 7 7 7 7 7 7 7 7 7 7 7 7 7\n",
      " 7 7 7 7 7 7 7 7 7 7 7 7 7 7 7 7 7 7 7 7 7 7 7 7 7 7 7 7 7 7 7 7 7 7 7 7 7\n",
      " 7 7 7 7 7 7 7 7 7 7 7 7 7 7 7 7 7 7 7 7 7 7 7 8 8 8 8 8 8 8 8 8 8 8 8 8 8\n",
      " 8 8 8 8 8 8 8 8 8 8 8 8 8 8 8 8 8 8 8 8 8 8 8 8 8 8 8 8 8 8 8 8 8 8 8 8 8\n",
      " 8 8 8 8 8 8 8 8 8 8 8 8 8 8 8 8 8 8 8 8 8 8 8 8 8 8 8 8 8 8 8 8 8 8 8 8 8\n",
      " 8 8 8 8 8 8 8 8 8 8 8 8 9 9 9 9 9 9 9 9 9 9 9 9 9 9 9 9 9 9 9 9 9 9 9 9 9\n",
      " 9 9 9 9 9 9 9 9 9 9 9 9 9 9 9 9 9 9 9 9 9 9 9 9 9 9 9 9 9 9 9 9 9 9 9 9 9\n",
      " 9 9 9 9 9 9 9 9 9 9 9 9 9 9 9 9 9 9 9 9 9 9 9 9 9 9 9 9 9 9 9 9 9 9 9 9 9\n",
      " 9]\n"
     ]
    }
   ],
   "source": [
    "genre_list = data.iloc[:, -1]\n",
    "encoder = LabelEncoder()\n",
    "y = encoder.fit_transform(genre_list)\n",
    "print(y)"
   ]
  },
  {
   "cell_type": "code",
   "execution_count": 6,
   "metadata": {},
   "outputs": [],
   "source": [
    "scaler = StandardScaler()\n",
    "X = scaler.fit_transform(np.array(data.iloc[:, :-1], dtype = float))"
   ]
  },
  {
   "cell_type": "code",
   "execution_count": 7,
   "metadata": {},
   "outputs": [
    {
     "data": {
      "text/plain": [
       "array([[-0.35174835,  0.31266712, -0.01072298, ..., -0.23719143,\n",
       "         0.00761125,  0.60349827],\n",
       "       [-0.46146555,  1.11697192, -0.53326615, ..., -0.05518971,\n",
       "         0.54382356,  0.42403527],\n",
       "       [-0.18448354, -0.13630778,  0.68001209, ..., -0.60070696,\n",
       "        -0.29428465, -0.29511276],\n",
       "       ...,\n",
       "       [ 0.6543177 , -1.42879075, -0.75110651, ...,  0.76028073,\n",
       "        -2.73474442, -0.2638744 ],\n",
       "       [-0.19983743,  0.66809238, -0.71651358, ...,  0.27176634,\n",
       "        -0.72311177, -0.64936233],\n",
       "       [-0.25070237, -0.06394035, -1.16473892, ..., -0.1250688 ,\n",
       "         0.08171812,  0.58748954]])"
      ]
     },
     "execution_count": 7,
     "metadata": {},
     "output_type": "execute_result"
    }
   ],
   "source": [
    "X"
   ]
  },
  {
   "cell_type": "code",
   "execution_count": 8,
   "metadata": {},
   "outputs": [],
   "source": [
    "X_train, X_test, y_train, y_test = train_test_split(X, y, test_size=0.40,random_state=100)"
   ]
  },
  {
   "cell_type": "code",
   "execution_count": 9,
   "metadata": {},
   "outputs": [
    {
     "data": {
      "text/plain": [
       "array([[-0.67390123,  0.37589976,  0.19365927, ..., -1.18306136,\n",
       "         0.10144072, -1.22311633],\n",
       "       [ 1.09095382, -0.73891826,  0.6351997 , ...,  0.47548657,\n",
       "         0.41068117,  0.13050736],\n",
       "       [-1.14779642,  0.76220451, -0.37001267, ...,  0.09204737,\n",
       "         1.02494999,  0.22427372],\n",
       "       ...,\n",
       "       [ 1.43520056, -1.74076511, -0.20701657, ...,  0.86905096,\n",
       "        -0.696635  ,  1.13514021],\n",
       "       [ 1.14196874,  1.08469485,  0.91412817, ...,  0.18376748,\n",
       "         0.49432222, -0.24433972],\n",
       "       [-1.68939026, -0.35469301, -1.5613929 , ...,  0.05097891,\n",
       "         0.89457775, -0.51284525]])"
      ]
     },
     "execution_count": 9,
     "metadata": {},
     "output_type": "execute_result"
    }
   ],
   "source": [
    "X_test"
   ]
  },
  {
   "cell_type": "code",
   "execution_count": 10,
   "metadata": {},
   "outputs": [
    {
     "data": {
      "text/plain": [
       "SVC()"
      ]
     },
     "execution_count": 10,
     "metadata": {},
     "output_type": "execute_result"
    }
   ],
   "source": [
    "from sklearn.svm import SVC\n",
    "model=SVC()\n",
    "model.fit(X_train,y_train)"
   ]
  },
  {
   "cell_type": "code",
   "execution_count": 11,
   "metadata": {},
   "outputs": [
    {
     "data": {
      "text/plain": [
       "numpy.ndarray"
      ]
     },
     "execution_count": 11,
     "metadata": {},
     "output_type": "execute_result"
    }
   ],
   "source": [
    "prediction = model.predict(X_test)\n",
    "type(prediction)"
   ]
  },
  {
   "cell_type": "code",
   "execution_count": 12,
   "metadata": {},
   "outputs": [
    {
     "data": {
      "text/plain": [
       "4"
      ]
     },
     "execution_count": 12,
     "metadata": {},
     "output_type": "execute_result"
    }
   ],
   "source": [
    "prediction[170]"
   ]
  },
  {
   "cell_type": "code",
   "execution_count": 13,
   "metadata": {},
   "outputs": [],
   "source": [
    "from sklearn.metrics import classification_report,confusion_matrix"
   ]
  },
  {
   "cell_type": "code",
   "execution_count": 14,
   "metadata": {},
   "outputs": [
    {
     "name": "stdout",
     "output_type": "stream",
     "text": [
      "              precision    recall  f1-score   support\n",
      "\n",
      "           0       0.67      0.70      0.68        37\n",
      "           1       0.94      0.88      0.91        52\n",
      "           2       0.62      0.49      0.55        47\n",
      "           3       0.36      0.71      0.48        34\n",
      "           4       0.69      0.51      0.59        43\n",
      "           5       0.76      0.71      0.74        45\n",
      "           6       0.86      0.78      0.82        41\n",
      "           7       0.75      0.66      0.70        32\n",
      "           8       0.51      0.59      0.55        37\n",
      "           9       0.54      0.44      0.48        32\n",
      "\n",
      "    accuracy                           0.66       400\n",
      "   macro avg       0.67      0.65      0.65       400\n",
      "weighted avg       0.69      0.66      0.66       400\n",
      "\n"
     ]
    }
   ],
   "source": [
    "print(classification_report(y_test,prediction))"
   ]
  },
  {
   "cell_type": "code",
   "execution_count": 15,
   "metadata": {},
   "outputs": [
    {
     "name": "stdout",
     "output_type": "stream",
     "text": [
      "[[26  0  1  2  1  2  3  0  0  2]\n",
      " [ 0 46  1  1  0  1  0  0  1  2]\n",
      " [ 4  0 23  8  0  6  0  1  2  3]\n",
      " [ 0  0  1 24  4  0  1  1  1  2]\n",
      " [ 1  0  1  8 22  0  0  3  8  0]\n",
      " [ 3  3  4  0  0 32  0  0  2  1]\n",
      " [ 4  0  1  3  0  0 32  0  1  0]\n",
      " [ 0  0  2  6  1  0  0 21  2  0]\n",
      " [ 0  0  2  5  4  1  0  1 22  2]\n",
      " [ 1  0  1 10  0  0  1  1  4 14]]\n"
     ]
    }
   ],
   "source": [
    "print(confusion_matrix(y_test,prediction))"
   ]
  },
  {
   "cell_type": "code",
   "execution_count": 24,
   "metadata": {},
   "outputs": [],
   "source": [
    "input_file = 'genres\\\\jazz\\\\jazz.00005.wav'"
   ]
  },
  {
   "cell_type": "code",
   "execution_count": 25,
   "metadata": {},
   "outputs": [],
   "source": [
    "y, sr = librosa.load(input_file, mono=True, duration=30)\n",
    "chroma_stft = librosa.feature.chroma_stft(y=y, sr=sr)\n",
    "rmse = librosa.feature.rms(y=y)\n",
    "spec_cent = librosa.feature.spectral_centroid(y=y, sr=sr)\n",
    "spec_bw = librosa.feature.spectral_bandwidth(y=y, sr=sr)\n",
    "rolloff = librosa.feature.spectral_rolloff(y=y, sr=sr)\n",
    "zcr = librosa.feature.zero_crossing_rate(y)\n",
    "mfcc = librosa.feature.mfcc(y=y, sr=sr)\n",
    "\n",
    "arr = np.array([[np.mean(chroma_stft), np.var(chroma_stft) ,np.mean(rmse) ,np.var(rmse) ,np.mean(spec_cent) ,np.var(spec_cent) ,np.mean(spec_bw) ,np.var(spec_bw) ,np.mean(rolloff) ,np.var(rolloff) ,np.mean(zcr) ,np.var(zcr)]])\n",
    "for e in mfcc:\n",
    "    arr=np.append(arr,np.mean(e));\n",
    "ar=np.array([arr])  "
   ]
  },
  {
   "cell_type": "code",
   "execution_count": 26,
   "metadata": {},
   "outputs": [
    {
     "data": {
      "text/plain": [
       "(32,)"
      ]
     },
     "execution_count": 26,
     "metadata": {},
     "output_type": "execute_result"
    }
   ],
   "source": [
    "arr.shape"
   ]
  },
  {
   "cell_type": "code",
   "execution_count": 27,
   "metadata": {},
   "outputs": [
    {
     "data": {
      "text/plain": [
       "numpy.ndarray"
      ]
     },
     "execution_count": 27,
     "metadata": {},
     "output_type": "execute_result"
    }
   ],
   "source": [
    "type(ar)"
   ]
  },
  {
   "cell_type": "code",
   "execution_count": 28,
   "metadata": {},
   "outputs": [
    {
     "data": {
      "text/plain": [
       "32"
      ]
     },
     "execution_count": 28,
     "metadata": {},
     "output_type": "execute_result"
    }
   ],
   "source": [
    "len(ar[0])"
   ]
  },
  {
   "cell_type": "code",
   "execution_count": 29,
   "metadata": {},
   "outputs": [
    {
     "data": {
      "text/plain": [
       "array([[-1.59716875,  1.30264762, -0.35602686, -0.22416626, -1.30487486,\n",
       "        -0.4570667 , -1.32349997,  1.03260952, -1.32498334,  0.01331939,\n",
       "        -1.09476314, -0.68781869, -1.01624082,  0.65909162,  0.36872253,\n",
       "        -0.33628298,  0.11005669,  0.71929203,  0.56044739, -0.09130187,\n",
       "         0.77518841, -0.25495579,  0.33311432, -0.03598123,  0.73259021,\n",
       "         1.13174363,  0.94262327,  1.29580905,  1.06214354,  0.115344  ,\n",
       "         1.08312728, -0.06533899]])"
      ]
     },
     "execution_count": 29,
     "metadata": {},
     "output_type": "execute_result"
    }
   ],
   "source": [
    "a=scaler.transform(np.array(ar,dtype=float))\n",
    "a"
   ]
  },
  {
   "cell_type": "code",
   "execution_count": 30,
   "metadata": {},
   "outputs": [],
   "source": [
    "pred=model.predict(a)"
   ]
  },
  {
   "cell_type": "code",
   "execution_count": 31,
   "metadata": {},
   "outputs": [
    {
     "name": "stdout",
     "output_type": "stream",
     "text": [
      "Jazz\n"
     ]
    }
   ],
   "source": [
    "if(pred==0):\n",
    "    print(\"Blue\")\n",
    "elif(pred==1):\n",
    "    print(\"Classical\")\n",
    "elif(pred==2):\n",
    "    print(\"Country\")\n",
    "elif(pred==3):\n",
    "    print(\"Disco\")\n",
    "elif(pred==4):\n",
    "    print(\"Hiphop\")\n",
    "elif(pred==5):\n",
    "    print(\"Jazz\")\n",
    "elif(pred==6):\n",
    "    print(\"Metal\")\n",
    "elif(pred==7):\n",
    "    print(\"Pop\")\n",
    "elif(pred==8):\n",
    "    print(\"Reggae\")\n",
    "elif(pred==9):\n",
    "    print(\"Rock\")\n"
   ]
  },
  {
   "cell_type": "code",
   "execution_count": null,
   "metadata": {},
   "outputs": [],
   "source": []
  },
  {
   "cell_type": "code",
   "execution_count": null,
   "metadata": {},
   "outputs": [],
   "source": []
  }
 ],
 "metadata": {
  "kernelspec": {
   "display_name": "Python 3",
   "language": "python",
   "name": "python3"
  },
  "language_info": {
   "codemirror_mode": {
    "name": "ipython",
    "version": 3
   },
   "file_extension": ".py",
   "mimetype": "text/x-python",
   "name": "python",
   "nbconvert_exporter": "python",
   "pygments_lexer": "ipython3",
   "version": "3.8.5"
  }
 },
 "nbformat": 4,
 "nbformat_minor": 4
}
